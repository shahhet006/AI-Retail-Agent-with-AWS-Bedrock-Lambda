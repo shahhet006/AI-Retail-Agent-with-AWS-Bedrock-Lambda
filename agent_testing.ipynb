{
 "cells": [
  {
   "cell_type": "code",
   "execution_count": 15,
   "id": "fbbc71b6-b176-4bf2-93bc-d1b173060be7",
   "metadata": {
    "tags": []
   },
   "outputs": [],
   "source": [
    "import boto3\n",
    "import uuid\n",
    "from util import *\n"
   ]
  },
  {
   "cell_type": "code",
   "execution_count": 16,
   "id": "159cd4ce-46c3-49f7-ad78-0e8a5ffd8946",
   "metadata": {
    "tags": []
   },
   "outputs": [],
   "source": [
    "bedrock_agent = boto3.client(service_name='bedrock-agent', region_name='us-east-1')\n",
    "\n",
    "bedrock_agent_runtime = boto3.client(service_name='bedrock-agent-runtime', region_name='us-east-1')\n"
   ]
  },
  {
   "cell_type": "code",
   "execution_count": 17,
   "id": "f4a89f18-fab4-4198-a683-0c3022797b55",
   "metadata": {
    "tags": []
   },
   "outputs": [],
   "source": [
    "agentId = 'JPOU1IUKNH'\n",
    "agentAliasId = 'A8VS6PJOAE'"
   ]
  },
  {
   "cell_type": "code",
   "execution_count": 18,
   "id": "1bc29a19-a459-4738-8631-6ac84a27ecfa",
   "metadata": {
    "tags": []
   },
   "outputs": [],
   "source": [
    "sessionId = str(uuid.uuid4())"
   ]
  },
  {
   "cell_type": "code",
   "execution_count": 20,
   "id": "95ce058f-6019-445d-b3b1-3bc9e521a5e0",
   "metadata": {
    "tags": []
   },
   "outputs": [
    {
     "name": "stdout",
     "output_type": "stream",
     "text": [
      "User: Hello I want to initiate a return on my order\n",
      "\n",
      "Agent: \n",
      "Agent's thought process:\n",
      "  I'll need to gather more information from the customer to process\n",
      "  their return. Specifically, I need to know the order number and\n",
      "  confirm the return eligibility.\n",
      "\n",
      "Observation:\n",
      "  Type: FINISH\n",
      "\n",
      "Final response:\n",
      "  I can help you with initiating a return. Could you please provide me\n",
      "  with the order number for the T-shirt you wish to return? Also, I'll\n",
      "  need to confirm a few details: - Was the T-shirt purchased within\n",
      "  the last 30 days? - What color is the T-shirt? (Please note that red\n",
      "  T-shirts cannot be returned)\n",
      "\n",
      "\n",
      "Session ID: 62e0fb87-9cc3-443d-83aa-5ed007a57785\n"
     ]
    }
   ],
   "source": [
    "message = 'Hello I want to initiate a return on my order'\n",
    "\n",
    "invoke_agent(\n",
    "      agentId = agentId,\n",
    "      agentAliasId = agentAliasId,\n",
    "      sessionId = sessionId,\n",
    "      inputText = message,\n",
    "      endSession = False,\n",
    "      enableTrace = True\n",
    ")"
   ]
  },
  {
   "cell_type": "code",
   "execution_count": 21,
   "id": "859e1428-df8b-476f-a6a8-8dd9a7bcb7a2",
   "metadata": {
    "tags": []
   },
   "outputs": [
    {
     "name": "stdout",
     "output_type": "stream",
     "text": [
      "User: I want to return My T- Shirt. Its red in color. the order number is\n",
      "ahevfuv1324\n",
      "\n",
      "Agent: \n",
      "Agent's thought process:\n",
      "  The customer wants to return a red T-shirt, but our policy states\n",
      "  that red T-shirts cannot be returned.\n",
      "\n",
      "Observation:\n",
      "  Type: FINISH\n",
      "\n",
      "Final response:\n",
      "  I apologize, but I cannot process a return for a red T-shirt. Our\n",
      "  store policy does not allow returns for red-colored T-shirts. If you\n",
      "  have a T-shirt in any other color, I would be happy to help you\n",
      "  process the return.\n",
      "\n",
      "\n",
      "Session ID: 62e0fb87-9cc3-443d-83aa-5ed007a57785\n"
     ]
    }
   ],
   "source": [
    "message = 'I want to return My T- Shirt. Its red in color. the order number is ahevfuv1324'\n",
    "\n",
    "invoke_agent(\n",
    "      agentId = agentId,\n",
    "      agentAliasId = agentAliasId,\n",
    "      sessionId = sessionId,\n",
    "      inputText = message,\n",
    "      endSession = False,\n",
    "      enableTrace = True\n",
    ")"
   ]
  },
  {
   "cell_type": "code",
   "execution_count": 22,
   "id": "fd51d9a9-56af-4f59-a7d4-554582d759e8",
   "metadata": {
    "tags": []
   },
   "outputs": [
    {
     "name": "stdout",
     "output_type": "stream",
     "text": [
      "User: I made a mistake. My T-shirt is red in color.can you help with this?\n",
      "\n",
      "Agent: \n",
      "Agent's thought process:\n",
      "  The customer has confirmed that the T-shirt is red, which means it\n",
      "  cannot be returned according to our store policy.\n",
      "\n",
      "Observation:\n",
      "  Type: FINISH\n",
      "\n",
      "Final response:\n",
      "  I'm sorry, but we cannot process a return for a red T-shirt. Our\n",
      "  store policy specifically states that red-colored T-shirts are not\n",
      "  eligible for returns. If you have a T-shirt in any other color\n",
      "  (blue, green, white, etc.), I would be glad to help you process the\n",
      "  return. Is there anything else I can assist you with today?\n",
      "\n",
      "\n",
      "Session ID: 62e0fb87-9cc3-443d-83aa-5ed007a57785\n"
     ]
    }
   ],
   "source": [
    "message = 'I made a mistake. My T-shirt is red in color.can you help with this?'\n",
    "\n",
    "invoke_agent(\n",
    "      agentId = agentId,\n",
    "      agentAliasId = agentAliasId,\n",
    "      sessionId = sessionId,\n",
    "      inputText = message,\n",
    "      endSession = False,\n",
    "      enableTrace = True\n",
    ")"
   ]
  },
  {
   "cell_type": "code",
   "execution_count": 23,
   "id": "7aa69ff1-1a55-4d6f-95b1-11e691c69e94",
   "metadata": {
    "tags": []
   },
   "outputs": [
    {
     "name": "stdout",
     "output_type": "stream",
     "text": [
      "User: I want to return my green color T-shirt.can you help with this?\n",
      "\n",
      "Agent: \n",
      "Agent's thought process:\n",
      "  The customer wants to return a green T-shirt. I'll need to confirm\n",
      "  the order number and verify the return eligibility.\n",
      "\n",
      "Observation:\n",
      "  Type: FINISH\n",
      "\n",
      "Final response:\n",
      "  I can help you return your green T-shirt. Could you please provide\n",
      "  me with the order number for the T-shirt you wish to return? I'll\n",
      "  also need to confirm that the T-shirt was purchased within the last\n",
      "  30 days.\n",
      "\n",
      "\n",
      "Session ID: 62e0fb87-9cc3-443d-83aa-5ed007a57785\n"
     ]
    }
   ],
   "source": [
    "message = 'I made a mistake. My T-shirt is red in color.can you help with this?'\n",
    "\n",
    "invoke_agent(\n",
    "      agentId = agentId,\n",
    "      agentAliasId = agentAliasId,\n",
    "      sessionId = sessionId,\n",
    "      inputText = message,\n",
    "      endSession = False,\n",
    "      enableTrace = True\n",
    ")"
   ]
  },
  {
   "cell_type": "code",
   "execution_count": 24,
   "id": "d0a5abf8-c7cf-444e-adba-6fe06121d3f8",
   "metadata": {
    "tags": []
   },
   "outputs": [
    {
     "name": "stdout",
     "output_type": "stream",
     "text": [
      "User: My order number is hbskervw297430\n",
      "\n",
      "Agent: \n",
      "Agent's thought process:\n",
      "  I now have the order number and know the T-shirt is green, which is\n",
      "  eligible for return. I'll proceed with processing the return.\n"
     ]
    },
    {
     "ename": "EventStreamError",
     "evalue": "An error occurred (dependencyFailedException) when calling the InvokeAgent operation: Your request couldn't be completed. Lambda function arn:aws:lambda:us-east-1:471112667800:function:return_item_actions-phdxu encountered a problem while processing request.The error message from the Lambda function is Unhandled. Check the Lambda function log for error details, then try your request again after fixing the error.",
     "output_type": "error",
     "traceback": [
      "\u001b[0;31m---------------------------------------------------------------------------\u001b[0m",
      "\u001b[0;31mEventStreamError\u001b[0m                          Traceback (most recent call last)",
      "Cell \u001b[0;32mIn[24], line 3\u001b[0m\n\u001b[1;32m      1\u001b[0m message \u001b[38;5;241m=\u001b[39m \u001b[38;5;124m'\u001b[39m\u001b[38;5;124mMy order number is hbskervw297430\u001b[39m\u001b[38;5;124m'\u001b[39m\n\u001b[0;32m----> 3\u001b[0m invoke_agent(\n\u001b[1;32m      4\u001b[0m       agentId \u001b[38;5;241m=\u001b[39m agentId,\n\u001b[1;32m      5\u001b[0m       agentAliasId \u001b[38;5;241m=\u001b[39m agentAliasId,\n\u001b[1;32m      6\u001b[0m       sessionId \u001b[38;5;241m=\u001b[39m sessionId,\n\u001b[1;32m      7\u001b[0m       inputText \u001b[38;5;241m=\u001b[39m message,\n\u001b[1;32m      8\u001b[0m       endSession \u001b[38;5;241m=\u001b[39m \u001b[38;5;28;01mFalse\u001b[39;00m,\n\u001b[1;32m      9\u001b[0m       enableTrace \u001b[38;5;241m=\u001b[39m \u001b[38;5;28;01mTrue\u001b[39;00m\n\u001b[1;32m     10\u001b[0m )\n",
      "File \u001b[0;32m~/util.py:25\u001b[0m, in \u001b[0;36minvoke_agent\u001b[0;34m(agentId, agentAliasId, inputText, sessionId, enableTrace, endSession, width)\u001b[0m\n\u001b[1;32m     22\u001b[0m \u001b[38;5;28mprint\u001b[39m(\u001b[38;5;124mf\u001b[39m\u001b[38;5;124m\"\u001b[39m\u001b[38;5;124mUser: \u001b[39m\u001b[38;5;132;01m{\u001b[39;00mtextwrap\u001b[38;5;241m.\u001b[39mfill(inputText,\u001b[38;5;250m \u001b[39mwidth\u001b[38;5;241m=\u001b[39mwidth)\u001b[38;5;132;01m}\u001b[39;00m\u001b[38;5;130;01m\\n\u001b[39;00m\u001b[38;5;124m\"\u001b[39m)\n\u001b[1;32m     23\u001b[0m \u001b[38;5;28mprint\u001b[39m(\u001b[38;5;124m\"\u001b[39m\u001b[38;5;124mAgent:\u001b[39m\u001b[38;5;124m\"\u001b[39m, end\u001b[38;5;241m=\u001b[39m\u001b[38;5;124m\"\u001b[39m\u001b[38;5;124m \u001b[39m\u001b[38;5;124m\"\u001b[39m, flush\u001b[38;5;241m=\u001b[39m\u001b[38;5;28;01mTrue\u001b[39;00m)\n\u001b[0;32m---> 25\u001b[0m \u001b[38;5;28;01mfor\u001b[39;00m event \u001b[38;5;129;01min\u001b[39;00m event_stream:\n\u001b[1;32m     26\u001b[0m     \u001b[38;5;28;01mif\u001b[39;00m \u001b[38;5;124m'\u001b[39m\u001b[38;5;124mchunk\u001b[39m\u001b[38;5;124m'\u001b[39m \u001b[38;5;129;01min\u001b[39;00m event:\n\u001b[1;32m     27\u001b[0m         chunk_text \u001b[38;5;241m=\u001b[39m event[\u001b[38;5;124m'\u001b[39m\u001b[38;5;124mchunk\u001b[39m\u001b[38;5;124m'\u001b[39m]\u001b[38;5;241m.\u001b[39mget(\u001b[38;5;124m'\u001b[39m\u001b[38;5;124mbytes\u001b[39m\u001b[38;5;124m'\u001b[39m, \u001b[38;5;124mb\u001b[39m\u001b[38;5;124m'\u001b[39m\u001b[38;5;124m'\u001b[39m)\u001b[38;5;241m.\u001b[39mdecode(\u001b[38;5;124m'\u001b[39m\u001b[38;5;124mutf-8\u001b[39m\u001b[38;5;124m'\u001b[39m)\n",
      "File \u001b[0;32m~/anaconda3/lib/python3.11/site-packages/botocore/eventstream.py:592\u001b[0m, in \u001b[0;36mEventStream.__iter__\u001b[0;34m(self)\u001b[0m\n\u001b[1;32m    590\u001b[0m \u001b[38;5;28;01mdef\u001b[39;00m \u001b[38;5;21m__iter__\u001b[39m(\u001b[38;5;28mself\u001b[39m):\n\u001b[1;32m    591\u001b[0m     \u001b[38;5;28;01mfor\u001b[39;00m event \u001b[38;5;129;01min\u001b[39;00m \u001b[38;5;28mself\u001b[39m\u001b[38;5;241m.\u001b[39m_event_generator:\n\u001b[0;32m--> 592\u001b[0m         parsed_event \u001b[38;5;241m=\u001b[39m \u001b[38;5;28mself\u001b[39m\u001b[38;5;241m.\u001b[39m_parse_event(event)\n\u001b[1;32m    593\u001b[0m         \u001b[38;5;28;01mif\u001b[39;00m parsed_event:\n\u001b[1;32m    594\u001b[0m             \u001b[38;5;28;01myield\u001b[39;00m parsed_event\n",
      "File \u001b[0;32m~/anaconda3/lib/python3.11/site-packages/botocore/eventstream.py:608\u001b[0m, in \u001b[0;36mEventStream._parse_event\u001b[0;34m(self, event)\u001b[0m\n\u001b[1;32m    606\u001b[0m     \u001b[38;5;28;01mreturn\u001b[39;00m parsed_response\n\u001b[1;32m    607\u001b[0m \u001b[38;5;28;01melse\u001b[39;00m:\n\u001b[0;32m--> 608\u001b[0m     \u001b[38;5;28;01mraise\u001b[39;00m EventStreamError(parsed_response, \u001b[38;5;28mself\u001b[39m\u001b[38;5;241m.\u001b[39m_operation_name)\n",
      "\u001b[0;31mEventStreamError\u001b[0m: An error occurred (dependencyFailedException) when calling the InvokeAgent operation: Your request couldn't be completed. Lambda function arn:aws:lambda:us-east-1:471112667800:function:return_item_actions-phdxu encountered a problem while processing request.The error message from the Lambda function is Unhandled. Check the Lambda function log for error details, then try your request again after fixing the error."
     ]
    }
   ],
   "source": [
    "message = 'My order number is hbskervw297430'\n",
    "\n",
    "invoke_agent(\n",
    "      agentId = agentId,\n",
    "      agentAliasId = agentAliasId,\n",
    "      sessionId = sessionId,\n",
    "      inputText = message,\n",
    "      endSession = False,\n",
    "      enableTrace = True\n",
    ")"
   ]
  },
  {
   "cell_type": "code",
   "execution_count": null,
   "id": "2175b926-23b5-4ab5-befb-7d76c1577123",
   "metadata": {},
   "outputs": [],
   "source": []
  }
 ],
 "metadata": {
  "kernelspec": {
   "display_name": "Python 3 (ipykernel)",
   "language": "python",
   "name": "python3"
  },
  "language_info": {
   "codemirror_mode": {
    "name": "ipython",
    "version": 3
   },
   "file_extension": ".py",
   "mimetype": "text/x-python",
   "name": "python",
   "nbconvert_exporter": "python",
   "pygments_lexer": "ipython3",
   "version": "3.11.5"
  }
 },
 "nbformat": 4,
 "nbformat_minor": 5
}
